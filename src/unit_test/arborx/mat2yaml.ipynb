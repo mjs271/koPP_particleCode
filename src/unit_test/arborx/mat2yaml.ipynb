{
 "cells": [
  {
   "cell_type": "code",
   "execution_count": 18,
   "metadata": {},
   "outputs": [],
   "source": [
    "import scipy.io\n",
    "from IPython.display import display, Math, Latex\n",
    "import re\n",
    "import matplotlib.animation as animate\n",
    "import numpy as np\n",
    "import matplotlib.pyplot as plt\n",
    "import matplotlib.font_manager\n",
    "import yaml\n",
    "plt.rcParams.update({\n",
    "    \"text.usetex\": True,\n",
    "    \"font.family\": \"serif\",\n",
    "    \"font.serif\": [\"Computer Modern Roman\"]})\n",
    "cm = plt.get_cmap('tab10')\n",
    "colors = cm(np.linspace(0, 1, 10))\n",
    "# from IPython.display import HTML\n",
    "# plt.rcParams[\"animation.html\"] = \"jshtml\"\n",
    "# regex package\n",
    "\n",
    "# can't remember what this one does\n",
    "# %matplotlib notebook\n",
    "# let graphics show up inline in this notebook\n",
    "%matplotlib inline\n",
    "# increase image resolution so saved figures don't look terrible\n",
    "# for saving\n",
    "# plt.rcParams['figure.dpi'] = 300\n",
    "# for display\n",
    "plt.rcParams['figure.dpi'] = 150\n",
    "# resize figures so they're not ginormous (default is [8.0, 6.0] in.)\n",
    "plt.rcParams['figure.figsize'] = [6, 18.0 / 4.0]"
   ]
  },
  {
   "cell_type": "code",
   "execution_count": 19,
   "metadata": {},
   "outputs": [],
   "source": [
    "fname = 'test_pts'"
   ]
  },
  {
   "cell_type": "code",
   "execution_count": 20,
   "metadata": {},
   "outputs": [],
   "source": [
    "mat = scipy.io.loadmat(fname + '.mat')\n",
    "# scipy.io.savemat('c:/tmp/arrdata.mat', mdict={'arr': arr})\n",
    "pts = mat['X']\n",
    "shapeX = np.shape(pts)\n",
    "dim = shapeX[1]\n",
    "data = dict()\n",
    "data['N'] = int(mat['N'])\n",
    "data['dim'] = int(mat['dim'])\n",
    "data['L'] = float(mat['L'])\n",
    "data['dist'] = float(mat['dist'])\n",
    "data['pts'] = {}\n",
    "pts_out = data['pts']\n",
    "if dim == 1:\n",
    "    pts_out['x'] = pts[:, 0].tolist()\n",
    "elif dim == 2:\n",
    "    pts_out['x'] = pts[:, 0].tolist()\n",
    "    pts_out['y'] = pts[:, 1].tolist()\n",
    "elif dim == 3:\n",
    "    pts_out['x'] = pts[:, 0].tolist()\n",
    "    pts_out['y'] = pts[:, 1].tolist()\n",
    "    pts_out['z'] = pts[:, 2].tolist()    "
   ]
  },
  {
   "cell_type": "code",
   "execution_count": 21,
   "metadata": {},
   "outputs": [],
   "source": [
    "of = open(fname + '.yaml', 'w+')\n",
    "yaml.safe_dump(data, of)\n",
    "of.close()"
   ]
  },
  {
   "cell_type": "code",
   "execution_count": null,
   "metadata": {},
   "outputs": [],
   "source": []
  }
 ],
 "metadata": {
  "interpreter": {
   "hash": "aee8b7b246df8f9039afb4144a1f6fd8d2ca17a180786b69acc140d282b71a49"
  },
  "kernelspec": {
   "display_name": "Python 3.9.7 64-bit",
   "language": "python",
   "name": "python3"
  },
  "language_info": {
   "codemirror_mode": {
    "name": "ipython",
    "version": 3
   },
   "file_extension": ".py",
   "mimetype": "text/x-python",
   "name": "python",
   "nbconvert_exporter": "python",
   "pygments_lexer": "ipython3",
   "version": "3.9.10"
  },
  "orig_nbformat": 4
 },
 "nbformat": 4,
 "nbformat_minor": 2
}
