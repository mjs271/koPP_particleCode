{
 "cells": [
  {
   "cell_type": "code",
   "execution_count": null,
   "metadata": {},
   "outputs": [],
   "source": [
    "import numpy as np\n",
    "from numpy import linalg as la\n",
    "import matplotlib.pyplot as plt\n",
    "import matplotlib.animation as animate\n",
    "# for vscode, use 'ipympl'; for browser, use 'notebook'\n",
    "%matplotlib ipympl\n",
    "# this is for colorbars on subplots\n",
    "from mpl_toolkits.axes_grid1 import make_axes_locatable\n",
    "# for rendering latex\n",
    "from IPython.display import display, Math, Latex\n",
    "import matplotlib.font_manager\n",
    "plt.rcParams.update({\n",
    "    \"text.usetex\": True,\n",
    "    \"font.family\": \"serif\",\n",
    "    \"font.serif\": [\"Computer Modern Roman\"]})\n",
    "\n",
    "fname = \"../data/particles.txt\"\n",
    "\n",
    "omega = np.zeros(2);\n",
    "\n",
    "with open(fname) as f:\n",
    "    shapeData = f.readline()\n",
    "    dim = int(f.readline())\n",
    "    p = f.readline()\n",
    "\n",
    "params = p.split()\n",
    "IC_type_space = float(params[0])\n",
    "IC_type_mass = float(params[1])\n",
    "omega[0]= float(params[2])\n",
    "omega[1]= float(params[3])\n",
    "X0_space = float(params[4])\n",
    "hat_pct = float(params[5])\n",
    "X0_mass = float(params[6])\n",
    "maxT = float(params[7])\n",
    "dt = float(params[8])\n",
    "D = float(params[9])\n",
    "pctRW = float(params[10])\n",
    "cdist_coeff = float(params[11])\n",
    "cutdist = float(params[12])\n",
    "data = np.loadtxt(fname, skiprows=3)"
   ]
  },
  {
   "cell_type": "code",
   "execution_count": null,
   "metadata": {},
   "outputs": [],
   "source": [
    "# delta IC\n",
    "sigma = 0.0\n",
    "\n",
    "shapeData = shapeData.split()\n",
    "shapeData = [int(i) for i in shapeData]\n",
    "Np = shapeData[0]\n",
    "Nsteps = shapeData[1] + 1"
   ]
  },
  {
   "cell_type": "code",
   "execution_count": null,
   "metadata": {},
   "outputs": [],
   "source": [
    "X = np.ndarray([dim, Np, Nsteps])\n",
    "\n",
    "for i in range(dim):\n",
    "    X[i, :, :] = np.reshape(data[:, i], (Np, Nsteps), 'f')\n",
    "mass = np.reshape(data[:, dim], (Np, Nsteps), 'f')"
   ]
  },
  {
   "cell_type": "code",
   "execution_count": null,
   "metadata": {},
   "outputs": [],
   "source": [
    "L = omega[1] - omega[0]\n",
    "\n",
    "def analytic1d(X, t, sigma, D, L):\n",
    "    sol =  (1 / np.sqrt(2 * np.pi * (sigma + 2 * D * t)))\\\n",
    "        * np.exp(-((0.5 * L - X[:])**2 / (2 * (sigma + 2 * D * t))));\n",
    "    return sol\n",
    "\n",
    "def analytic2d(dim, X, Y, t, sigma, D, L):\n",
    "    sol =  (1 / np.power(2 * np.pi * (sigma + 2 * D * t), float(dim) / 2.0))\\\n",
    "           * np.exp(-(((0.5 * L - X)**2 + (0.5 * L - Y)**2)/ (2 * (sigma + 2 * D * t))));\n",
    "    return sol"
   ]
  },
  {
   "cell_type": "code",
   "execution_count": null,
   "metadata": {},
   "outputs": [],
   "source": [
    "fig = plt.figure()\n",
    "plt.scatter(X[0, :, 0], X[1, :, 0], c=mass[:, 0], cmap='cividis', label='PT')\n",
    "# plt.scatter(X[-1, :], asoln, label='analytic')\n",
    "plt.colorbar()\n",
    "# plt.legend()\n",
    "plt.title('Initial')\n",
    "plt.show()"
   ]
  },
  {
   "cell_type": "code",
   "execution_count": null,
   "metadata": {},
   "outputs": [],
   "source": [
    "fig = plt.figure()\n",
    "plt.scatter(X[0, :, -1], X[1, :, -1], c=mass[:, -1], cmap='cividis', label='PT')\n",
    "# plt.scatter(X[-1, :], asoln, label='analytic')\n",
    "plt.colorbar()\n",
    "# plt.legend()\n",
    "plt.title('Final')\n",
    "plt.show()"
   ]
  },
  {
   "cell_type": "code",
   "execution_count": null,
   "metadata": {},
   "outputs": [],
   "source": [
    "fig = plt.figure()\n",
    "plt.scatter(X[0, :, -1], X[1, :, -1], c=abs(mass[:, -1] - mass[:, 0]), cmap='cividis', label='PT')\n",
    "# plt.scatter(X[-1, :], asoln, label='analytic')\n",
    "plt.colorbar()\n",
    "# plt.legend()\n",
    "plt.title('Abs. Difference |final - initial|')\n",
    "plt.show()"
   ]
  },
  {
   "cell_type": "code",
   "execution_count": null,
   "metadata": {},
   "outputs": [],
   "source": [
    "asoln = analytic2d(dim, X[0, :, -1], X[1, :, -1], maxT, sigma, D, L)\n",
    "\n",
    "fig= plt.figure()\n",
    "Npsqrt = int(np.sqrt(Np))\n",
    "cp = plt.contour(np.reshape(asoln, (Npsqrt, Npsqrt)))\n",
    "plt.clabel(cp, inline=True, fontsize=10)\n",
    "# plt.scatter(X[-1, :], asoln, label='analytic')\n",
    "plt.colorbar()\n",
    "# plt.legend()\n",
    "plt.title('Abs. Difference |final - initial|')\n",
    "plt.show()"
   ]
  },
  {
   "cell_type": "code",
   "execution_count": null,
   "metadata": {},
   "outputs": [],
   "source": [
    "fig = plt.figure(figsize=(20, 6))\n",
    "\n",
    "Npsqrt = int(np.sqrt(Np))\n",
    "xgrid = np.reshape(X[0, :, -1], (Npsqrt, Npsqrt))\n",
    "ygrid = np.reshape(X[1, :, -1], (Npsqrt, Npsqrt))\n",
    "\n",
    "ax1 = fig.add_subplot(131)\n",
    "p1 = ax1.contour(xgrid, ygrid, np.reshape(mass[:, -1], (Npsqrt, Npsqrt)))\n",
    "ax1.clabel(p1, inline=True, fontsize=10)\n",
    "ax1.set_title(r'Simulated $(q_s(T))$')\n",
    "\n",
    "asoln = analytic2d(dim, X[0, :, -1], X[1, :, -1], maxT, sigma, D, L)\n",
    "ax2 = fig.add_subplot(132)\n",
    "p2 = ax2.contour(xgrid, ygrid, np.reshape(asoln, (Npsqrt, Npsqrt)))\n",
    "ax2.clabel(p2, inline=True, fontsize=10)\n",
    "ax2.set_title(r'Analytical $(q_a(T))$')\n",
    "\n",
    "ax3 = fig.add_subplot(133)\n",
    "p3 = ax3.contour(xgrid, ygrid, np.reshape(abs(asoln - mass[:, -1]), (Npsqrt, Npsqrt)))\n",
    "ax3.clabel(p3, inline=True, fontsize=10)\n",
    "ax3.set_title(r'Absolute Difference $\\left(\\vert q_s(T) - q_a(T) \\vert\\right)$')"
   ]
  },
  {
   "cell_type": "code",
   "execution_count": null,
   "metadata": {},
   "outputs": [],
   "source": [
    "fig = plt.figure(figsize=(20, 6))\n",
    "\n",
    "ax1 = fig.add_subplot(131)\n",
    "p1 = ax1.scatter(X[0, :, -1], X[1, :, -1], c=mass[:, -1], cmap='cividis', label='PT')\n",
    "divider = make_axes_locatable(ax1)\n",
    "cax = divider.append_axes('right', size='5%', pad=0.05)\n",
    "fig.colorbar(p1, cax=cax, orientation='vertical')\n",
    "\n",
    "asoln = analytic2d(dim, X[0, :, -1], X[1, :, -1], maxT, sigma, D, L)\n",
    "ax2 = fig.add_subplot(132)\n",
    "p2 = ax2.scatter(X[0, :, -1], X[1, :, -1], c=asoln, cmap='cividis', label='Analytical')\n",
    "divider = make_axes_locatable(ax2)\n",
    "cax = divider.append_axes('right', size='5%', pad=0.05)\n",
    "fig.colorbar(p2, cax=cax, orientation='vertical')\n",
    "\n",
    "ax3 = fig.add_subplot(133)\n",
    "p3 = ax3.scatter(X[0, :, -1], X[1, :, -1], c=abs(asoln - mass[:, -1]), cmap='cividis', label='Difference')\n",
    "divider = make_axes_locatable(ax3)\n",
    "cax = divider.append_axes('right', size='5%', pad=0.05)\n",
    "fig.colorbar(p3, cax=cax, orientation='vertical')"
   ]
  },
  {
   "cell_type": "code",
   "execution_count": null,
   "metadata": {},
   "outputs": [],
   "source": [
    "# framesNum = Nsteps\n",
    "\n",
    "# def massAnimation(frame):\n",
    "#     if frame == framesNum:\n",
    "#         plt.close(fig)\n",
    "#     else:\n",
    "#         plt.cla()\n",
    "#         p = plt.scatter(X[0, :, frame], X[1, :, frame], c=mass[:, frame], cmap='cividis')\n",
    "\n",
    "# # plot the animation\n",
    "# fig = plt.figure()\n",
    "# ani = animate.FuncAnimation(fig, massAnimation, frames=framesNum + 1)\n",
    "# plt.show()"
   ]
  },
  {
   "cell_type": "code",
   "execution_count": null,
   "metadata": {},
   "outputs": [],
   "source": [
    "asoln = analytic1d(X[0, :, -1], maxT, sigma, D, L)\n",
    "asoln = asoln / sum(asoln)\n",
    "\n",
    "error_2norm = la.norm(asoln - mass[:, -1], ord=2)\n",
    "error_infnorm = la.norm(asoln - mass[:, -1], ord=np.inf)\n",
    "MSE = np.square(np.subtract(asoln, mass[:, -1])).mean() \n",
    " \n",
    "RMSE = np.sqrt(MSE)\n",
    "print('RMSE = ', RMSE, ', 2-norm error = ', error_2norm, ', infinity-norm error = ', error_infnorm)"
   ]
  },
  {
   "cell_type": "code",
   "execution_count": null,
   "metadata": {},
   "outputs": [],
   "source": [
    "55**2"
   ]
  }
 ],
 "metadata": {
  "interpreter": {
   "hash": "aee8b7b246df8f9039afb4144a1f6fd8d2ca17a180786b69acc140d282b71a49"
  },
  "kernelspec": {
   "display_name": "Python 3.9.10 64-bit",
   "language": "python",
   "name": "python3"
  },
  "language_info": {
   "codemirror_mode": {
    "name": "ipython",
    "version": 3
   },
   "file_extension": ".py",
   "mimetype": "text/x-python",
   "name": "python",
   "nbconvert_exporter": "python",
   "pygments_lexer": "ipython3",
   "version": "3.9.10"
  },
  "orig_nbformat": 4
 },
 "nbformat": 4,
 "nbformat_minor": 2
}
