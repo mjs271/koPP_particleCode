{
 "cells": [
  {
   "cell_type": "code",
   "execution_count": null,
   "metadata": {},
   "outputs": [],
   "source": [
    "import os.path\n",
    "import numpy as np\n",
    "from numpy import linalg as la\n",
    "import seaborn as sns\n",
    "import matplotlib.pyplot as plt\n",
    "import matplotlib.animation as animate\n",
    "# for vscode, use 'ipympl' for animations and 'inline', otherwise\n",
    "# for browser, use 'notebook'\n",
    "# %matplotlib ipympl\n",
    "%matplotlib ipympl\n",
    "# this is for colorbars on subplots\n",
    "from mpl_toolkits.axes_grid1 import make_axes_locatable\n",
    "# for rendering latex\n",
    "from IPython.display import display, Math, Latex\n",
    "import matplotlib.font_manager\n",
    "plt.rcParams.update({\n",
    "    \"text.usetex\": True,\n",
    "    \"font.family\": \"serif\",\n",
    "    \"font.serif\": [\"Computer Modern Roman\"]})\n",
    "\n",
    "fname = \"../data/particles\"\n",
    "start_fname = fname + \"1.txt\"\n",
    "f_ens = \"../data/ens.txt\""
   ]
  },
  {
   "cell_type": "code",
   "execution_count": null,
   "metadata": {},
   "outputs": [],
   "source": [
    "with open(f_ens) as f:\n",
    "    N_ens = int(f.readline())\n",
    "\n",
    "with open(start_fname) as f:\n",
    "    shapeData = f.readline()\n",
    "    dim = int(f.readline())\n",
    "    p = f.readline()\n",
    "\n",
    "omega = np.zeros(2);\n",
    "\n",
    "params = p.split()\n",
    "IC_type_space = float(params[0])\n",
    "IC_type_mass = float(params[1])\n",
    "omega[0] = float(params[2])\n",
    "omega[1] = float(params[3])\n",
    "X0_space = float(params[4])\n",
    "hat_pct = float(params[5])\n",
    "X0_mass = float(params[6])\n",
    "maxT = float(params[7])\n",
    "dt = float(params[8])\n",
    "D = float(params[9])\n",
    "pctRW = float(params[10])\n",
    "cdist_coeff = float(params[11])\n",
    "cutdist = float(params[12])"
   ]
  },
  {
   "cell_type": "code",
   "execution_count": null,
   "metadata": {},
   "outputs": [],
   "source": [
    "# delta IC\n",
    "sigma = 0.0\n",
    "\n",
    "shapeData = shapeData.split()\n",
    "shapeData = [int(i) for i in shapeData]\n",
    "Np = shapeData[0]\n",
    "Nsteps = shapeData[1] + 1"
   ]
  },
  {
   "cell_type": "code",
   "execution_count": null,
   "metadata": {},
   "outputs": [],
   "source": [
    "X = np.ndarray((Np, Nsteps))\n",
    "\n",
    "for e in range(1, N_ens + 1):\n",
    "    fname_ens = \"../data/particles\" + str(e) + \".txt\"\n",
    "    with open(fname_ens) as f:\n",
    "        data = np.loadtxt(f, skiprows=3)\n",
    "        tmpX = np.reshape(data[:, 0], (Np, Nsteps), 'f')\n",
    "        if e == 1:\n",
    "            X = tmpX\n",
    "        else:\n",
    "            X = np.concatenate((X, tmpX))\n",
    "# sort spatially for comparison later              \n",
    "X.sort(axis=0)"
   ]
  },
  {
   "cell_type": "code",
   "execution_count": null,
   "metadata": {},
   "outputs": [],
   "source": [
    "L = omega[1] - omega[0]\n",
    "\n",
    "def analytic1d(X, t, sigma, D, L):\n",
    "    sol =  (1 / np.sqrt(2 * np.pi * (sigma + 2 * D * t)))\\\n",
    "        * np.exp(-((0.5 * L - X[:])**2 / (2 * (sigma + 2 * D * t))));\n",
    "    return sol\n",
    "\n",
    "def analytic2d(dim, X, Y, t, sigma, D, L):\n",
    "    sol =  (1 / np.power(2 * np.pi * (sigma + 2 * D * t), float(dim) / 2.0))\\\n",
    "           * np.exp(-(((0.5 * L - X)**2 + (0.5 * L - Y)**2)/ (2 * (sigma + 2 * D * t))));\n",
    "    return sol"
   ]
  },
  {
   "cell_type": "code",
   "execution_count": null,
   "metadata": {},
   "outputs": [],
   "source": [
    "# number of histogram bins\n",
    "nBins = int(np.floor(max(X[:, -1]) - min(X[:, -1])) * 3)"
   ]
  },
  {
   "cell_type": "code",
   "execution_count": null,
   "metadata": {},
   "outputs": [],
   "source": [
    "# plot the initial condition\n",
    "fig = plt.figure()\n",
    "(counts, bins, patches) = plt.hist(X[:, 0], density=True, bins=nBins)\n",
    "plt.title('Initial')"
   ]
  },
  {
   "cell_type": "code",
   "execution_count": null,
   "metadata": {},
   "outputs": [],
   "source": [
    "asoln = analytic1d(X[:, -1], maxT, sigma, D, L)\n",
    "fig = plt.figure()\n",
    "plt.subplot(211)\n",
    "plt.title('Final Histogram')\n",
    "(counts, bins, patches) = plt.hist(X[:, -1], bins=nBins,\n",
    "                                       weights=np.ones(np.shape(X[:, -1]))*\n",
    "                                                       (1 / N_ens), density=True)\n",
    "# (counts, bins, patches) = plt.hist(X[:, -1], bins=nBins, density=True)\n",
    "# plt.hist()\n",
    "plt.subplot(212)\n",
    "plt.scatter(X[:, -1], asoln)\n",
    "plt.show()\n",
    "print(max(counts))\n",
    "print(max(asoln))\n",
    "print('sample mean = {}'.format(np.mean(X[:, -1])))\n",
    "print('sample sigma =  {}'.format(np.std(X[:, -1])))\n",
    "print('true mean = sqrt(2 D maxT) = {}'.format(X0_space))\n",
    "print('true sigma = sqrt(2 D maxT) = {}'.format(np.sqrt(2.0 * D * maxT)))"
   ]
  },
  {
   "cell_type": "code",
   "execution_count": null,
   "metadata": {},
   "outputs": [],
   "source": [
    "fig = plt.figure()\n",
    "plt.title('Final KDE Plot')\n",
    "plt.scatter(X[:, -1], asoln, label='analytic')\n",
    "sns.kdeplot(X[:, -1], label='PT', color='r')\n",
    "plt.legend()"
   ]
  },
  {
   "cell_type": "code",
   "execution_count": null,
   "metadata": {},
   "outputs": [],
   "source": [
    "from sklearn.neighbors import KernelDensity\n",
    "\n",
    "Z = np.array(X[:, -1])[:, np.newaxis]\n",
    "# xplot = np.linspace(min(X[:, -1]), max(X[:, -1]), len(X[:, -1]))[:, np.newaxis]\n",
    "xplot = np.linspace(min(X[:, -1]), max(X[:, -1]), 1000)[:, np.newaxis]\n",
    "kde = KernelDensity(kernel=\"gaussian\", bandwidth=0.3).fit(Z)\n",
    "log_dens = kde.score_samples(xplot)\n",
    "fig = plt.figure()\n",
    "plt.scatter(X[:, -1], asoln, label='analytic')\n",
    "plt.plot(xplot[:, 0], np.exp(log_dens), label='sklearn', color='r')\n",
    "# sns.kdeplot(X[:, -1], label='seaborn', color='g')\n",
    "plt.legend()\n",
    "\n",
    "# la.norm(np.exp(log_dens) - asoln)"
   ]
  },
  {
   "cell_type": "code",
   "execution_count": null,
   "metadata": {},
   "outputs": [],
   "source": [
    "from scipy.stats import norm\n",
    "\n",
    "xplot = np.linspace(min(X[:, -1]), max(X[:, -1]), len(X[:, -1]))\n",
    "# xplot = np.linspace(min(X[:, -1]), max(X[:, -1]), 1000)\n",
    "mu, sigma = norm.fit(X[:, -1])\n",
    "p = norm.pdf(xplot, mu, sigma)\n",
    "plt.scatter(X[:, -1], asoln)\n",
    "plt.plot(xplot, p, color='r')\n",
    "\n",
    "# print('2-norm error = {}'.format(la.norm(asoln - p)))\n",
    "# print('inf-norm error = {}'.format(la.norm(abs(asoln - p), np.inf)))\n",
    "print('max analytic = {}'.format(max(asoln)))\n",
    "print('max fitted = {}'.format(max(p)))\n",
    "print('fitted: mu, sigma = {}, {}'.format(mu, sigma))\n",
    "print('particle: mean, std. [sqrt(2 D maxT)]  = {}, {}'.format(X0_space, np.sqrt(2.0 * D * maxT)))\n",
    "print('true sigma [sqrt(2 D maxT)] = {}\\n'.format(np.sqrt(2.0 * D * maxT)))\n",
    "\n",
    "print('MSE = {}'.format(np.mean((asoln - p)**2)))\n",
    "print('error in max val = {}'.format(abs(max(asoln) - max(p))))\n",
    "print('error in mean, std. = {}, {}'.format(abs(mu - X0_space),\n",
    "                                        abs(sigma - np.sqrt(2.0 * D * maxT))))"
   ]
  },
  {
   "cell_type": "code",
   "execution_count": null,
   "metadata": {},
   "outputs": [],
   "source": [
    "# def histAnimation(frame):\n",
    "#     if frame == framesNum:\n",
    "#         plt.close(fig)\n",
    "#     else:\n",
    "#         plt.cla()\n",
    "#         p = plt.hist(X[0, :, frame], density=True, bins=20)\n",
    "\n",
    "# # plot the animation\n",
    "# fig = plt.figure()\n",
    "# ani = animate.FuncAnimation(fig, histAnimation, frames=framesNum + 1)"
   ]
  }
 ],
 "metadata": {
  "interpreter": {
   "hash": "aee8b7b246df8f9039afb4144a1f6fd8d2ca17a180786b69acc140d282b71a49"
  },
  "kernelspec": {
   "display_name": "Python 3.9.10 64-bit",
   "language": "python",
   "name": "python3"
  },
  "language_info": {
   "codemirror_mode": {
    "name": "ipython",
    "version": 3
   },
   "file_extension": ".py",
   "mimetype": "text/x-python",
   "name": "python",
   "nbconvert_exporter": "python",
   "pygments_lexer": "ipython3",
   "version": "3.10.5"
  },
  "orig_nbformat": 4
 },
 "nbformat": 4,
 "nbformat_minor": 2
}
