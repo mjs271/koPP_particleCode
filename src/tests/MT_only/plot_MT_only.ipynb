{
 "cells": [
  {
   "cell_type": "code",
   "execution_count": null,
   "metadata": {},
   "outputs": [],
   "source": [
    "import numpy as np\n",
    "import matplotlib.pyplot as plt\n",
    "import matplotlib.animation as animate\n",
    "# from IPython.display import HTML\n",
    "# plt.rcParams[\"animation.html\"] = \"jshtml\"\n",
    "\n",
    "# let graphics show up inline in this notebook\n",
    "%matplotlib notebook"
   ]
  },
  {
   "cell_type": "code",
   "execution_count": null,
   "metadata": {},
   "outputs": [],
   "source": [
    "fname = \"./data/particles.txt\"\n",
    "\n",
    "omega = np.zeros(2);\n",
    "\n",
    "with open(fname) as f:\n",
    "    shapeData = f.readline()\n",
    "    p = f.readline()\n",
    "\n",
    "params = p.split()\n",
    "IC_type_space = float(params[0])\n",
    "IC_type_mass = float(params[1])\n",
    "omega[0]= float(params[2])\n",
    "omega[1]= float(params[3])\n",
    "X0_space = float(params[4])\n",
    "hat_pct = float(params[5])\n",
    "X0_mass = float(params[6])\n",
    "maxT = float(params[7])\n",
    "dt = float(params[8])\n",
    "D = float(params[9])\n",
    "pctRW = float(params[10])\n",
    "cdist_coeff = float(params[11])\n",
    "cutdist = float(params[12])\n",
    "data = np.loadtxt(fname, skiprows=2)\n",
    "\n",
    "# delta IC\n",
    "sigma = 0.0"
   ]
  },
  {
   "cell_type": "code",
   "execution_count": null,
   "metadata": {},
   "outputs": [],
   "source": [
    "shapeData = shapeData.split()\n",
    "shapeData = [int(i) for i in shapeData]\n",
    "\n",
    "X = np.reshape(data[:, 0], (shapeData[1] + 1, shapeData[0]))\n",
    "mass = np.reshape(data[:, 1], (shapeData[1] + 1, shapeData[0]))\n",
    "\n",
    "framesNum = shapeData[1]"
   ]
  },
  {
   "cell_type": "code",
   "execution_count": null,
   "metadata": {},
   "outputs": [],
   "source": [
    "L = omega[1] - omega[0]\n",
    "def analytic(X, t, sigma, D, L):\n",
    "    sol =  (1 / np.sqrt(2 * np.pi * (sigma**2 + 2 * D * t)))\\\n",
    "        * np.exp(-((0.5 * L - X[:])**2 / (2 * (sigma**2 + 2 * D * t))));\n",
    "    return sol"
   ]
  },
  {
   "cell_type": "code",
   "execution_count": null,
   "metadata": {},
   "outputs": [],
   "source": [
    "fig = plt.figure()\n",
    "plt.scatter(X[0, :], mass[0, :] / sum(mass[0, :]), label='PT')\n",
    "plt.legend()\n",
    "plt.title('Initial')"
   ]
  },
  {
   "cell_type": "code",
   "execution_count": null,
   "metadata": {},
   "outputs": [],
   "source": [
    "asoln = analytic(X[-1, :], maxT, sigma, D, L)\n",
    "asoln = asoln / sum(asoln)\n",
    "error = np.linalg.norm(asoln - mass[-1, :])\n",
    "print('error = ', error)\n",
    "fig = plt.figure()\n",
    "plt.scatter(X[-1, :], mass[-1, :] / sum(mass[-1, :]), label='PT')\n",
    "plt.scatter(X[-1, :], asoln, label='analytic')\n",
    "plt.legend()\n",
    "plt.title('Final')"
   ]
  },
  {
   "cell_type": "code",
   "execution_count": null,
   "metadata": {},
   "outputs": [],
   "source": [
    "def massAnimation(frame):\n",
    "    if frame == framesNum:\n",
    "        plt.close(fig)\n",
    "    else:\n",
    "        plt.cla()\n",
    "        p = plt.scatter(X[frame, :], mass[frame, :])\n",
    "\n",
    "# plot the animation\n",
    "fig = plt.figure()\n",
    "ani = animate.FuncAnimation(fig, massAnimation, frames=framesNum + 1)"
   ]
  },
  {
   "cell_type": "code",
   "execution_count": null,
   "metadata": {},
   "outputs": [],
   "source": []
  }
 ],
 "metadata": {
  "kernelspec": {
   "display_name": "Python 3",
   "language": "python",
   "name": "python3"
  },
  "language_info": {
   "codemirror_mode": {
    "name": "ipython",
    "version": 3
   },
   "file_extension": ".py",
   "mimetype": "text/x-python",
   "name": "python",
   "nbconvert_exporter": "python",
   "pygments_lexer": "ipython3",
   "version": "3.9.7"
  }
 },
 "nbformat": 4,
 "nbformat_minor": 2
}
